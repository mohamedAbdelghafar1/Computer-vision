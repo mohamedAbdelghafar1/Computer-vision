{
 "cells": [
  {
   "cell_type": "code",
   "execution_count": 1,
   "id": "b5d46a4b",
   "metadata": {},
   "outputs": [],
   "source": [
    "import numpy as np\n",
    "import cv2 as cv\n"
   ]
  },
  {
   "cell_type": "code",
   "execution_count": null,
   "id": "7e548e6c",
   "metadata": {},
   "outputs": [],
   "source": [
    "img = cv.imread(r\"D:\\Courses\\AI work\\Deep learning\\Computer vision\\NTI (summer Training)CV\\NTI\\week1\\Day2\\da4.jpeg\")\n",
    "cv.imshow(\"OriginalImage\", img)\n",
    "\n",
    "Half = cv.resize(img, (0, 0), fx=0.5, fy=0.5)\n",
    "Bigger = cv.resize(img, (1050, 1610))\n",
    "Stretch_near = cv.resize(img, (780, 540),\n",
    "interpolation = cv.INTER_NEAREST)\n",
    "\n",
    "cv.imshow(\"Half\", Half)\n",
    "cv.imshow(\"Big\", Bigger)\n",
    "cv.imshow(\"Stretch\", Stretch_near)\n",
    "\n",
    "cv.waitKey()\n",
    "cv.destroyAllWindows()"
   ]
  },
  {
   "cell_type": "code",
   "execution_count": null,
   "id": "4328f90c",
   "metadata": {},
   "outputs": [],
   "source": [
    "\n",
    "img = cv.imread(r\"D:\\Courses\\AI work\\NTI\\Day1 cv\\frames\\0.jpg\",0)\n",
    "cv.imshow('Original_Image', img)\n",
    "rows, cols = img.shape\n",
    "M = np.float32([[1, 0, 100], [0, 1, 50]])\n",
    "dst = cv.warpAffine(img, M, (cols, rows))\n",
    "cv.imshow('Translated_Image', dst)\n",
    "cv.waitKey(0)\n",
    "cv.destroyAllWindows()"
   ]
  },
  {
   "cell_type": "code",
   "execution_count": null,
   "id": "add020f4",
   "metadata": {},
   "outputs": [
    {
     "ename": "",
     "evalue": "",
     "output_type": "error",
     "traceback": [
      "\u001b[1;31mThe Kernel crashed while executing code in the current cell or a previous cell. \n",
      "\u001b[1;31mPlease review the code in the cell(s) to identify a possible cause of the failure. \n",
      "\u001b[1;31mClick <a href='https://aka.ms/vscodeJupyterKernelCrash'>here</a> for more info. \n",
      "\u001b[1;31mView Jupyter <a href='command:jupyter.viewOutput'>log</a> for further details."
     ]
    }
   ],
   "source": [
    "img = cv.imread(r\"D:\\Courses\\AI work\\NTI\\Day1 cv\\frames\\0.jpg\",0)\n",
    "cv.imshow('Original_Image', img)\n",
    "rows, cols = img. shape\n",
    "M = np.float32([[1, 0, 0],\n",
    "[0, -1, rows],\n",
    "[0, 0, 1]])\n",
    "reflected_img = cv.warpPerspective(img, M,\n",
    "(int(cols),\n",
    "int(rows)))\n",
    "\n",
    "cv.imwrite('reflection_out.jpg', reflected_img)\n",
    "cv.waitKey(0)\n",
    "cv.destroyAllWindows()\n",
    "\n",
    "cv.imshow('img', reflected_img)"
   ]
  },
  {
   "cell_type": "code",
   "execution_count": null,
   "id": "0ad844a2",
   "metadata": {},
   "outputs": [],
   "source": [
    "import numpy as np\n",
    "import cv2 as cv\n",
    "\n",
    "img = cv.imread(r\"D:\\Courses\\AI work\\NTI\\Day1 cv\\frames\\0.jpg\",0)\n",
    "cv.imshow('Original_Image', img)\n",
    "rows, cols = img.shape\n",
    "\n",
    "# Create rotation matrix\n",
    "rotation_matrix = cv.getRotationMatrix2D((cols/2, rows/2), 30, 0.6)\n",
    "rotated_img = cv.warpAffine(img, rotation_matrix, (cols, rows))\n",
    "\n",
    "cv.imshow('Rotated Image', rotated_img)\n",
    "cv.imwrite('rotated_out.jpg', rotated_img)\n",
    "cv.waitKey(0)\n",
    "cv.destroyAllWindows()\n"
   ]
  },
  {
   "cell_type": "code",
   "execution_count": 5,
   "id": "84ac7adf",
   "metadata": {},
   "outputs": [],
   "source": [
    "import numpy as np\n",
    "import cv2 as cv\n",
    "img = cv.imread(r\"D:\\Courses\\AI work\\NTI\\Day1 cv\\frames\\0.jpg\",0)\n",
    "cv.imshow('Original_Image', img)\n",
    "rows, cols = img. shape\n",
    "img_shrinked = cv.resize(img, (250, 200),\n",
    "interpolation=cv.INTER_AREA)\n",
    "cv.imshow('img1', img_shrinked)\n",
    "img_enlarged = cv.resize(img_shrinked, None,\n",
    "fx=1.5, fy=1.5,\n",
    "interpolation=cv.INTER_CUBIC)\n",
    "cv.imshow('img2', img_enlarged)\n",
    "cv.waitKey(0)\n",
    "cv.destroyAllWindows()"
   ]
  },
  {
   "cell_type": "code",
   "execution_count": 6,
   "id": "a1753f9b",
   "metadata": {},
   "outputs": [],
   "source": [
    "import cv2 as cv\n",
    "\n",
    "# Load image in color\n",
    "img = cv.imread(r\"D:\\Courses\\AI work\\NTI\\Day1 cv\\frames\\0.jpg\")\n",
    "\n",
    "# Convert to HLS and extract Lightness channel\n",
    "hls = cv.cvtColor(img, cv.COLOR_BGR2HLS)\n",
    "L_channel = hls[:, :, 1]   # Lightness\n",
    "\n",
    "# Convert to HSV and extract Value channel\n",
    "hsv = cv.cvtColor(img, cv.COLOR_BGR2HSV)\n",
    "V_channel = hsv[:, :, 2]   # Brightness/Value\n",
    "\n",
    "# Convert to YCrCb and extract Y channel (Luminance)\n",
    "ycrcb = cv.cvtColor(img, cv.COLOR_BGR2YCrCb)\n",
    "Y_channel = ycrcb[:, :, 0] # Luminance\n",
    "\n",
    "# Show results\n",
    "cv.imshow(\"Original\", img)\n",
    "cv.imshow(\"Lightness (HLS - L)\", L_channel)\n",
    "cv.imshow(\"Value (HSV - V)\", V_channel)\n",
    "cv.imshow(\"Luminance (YCrCb - Y)\", Y_channel)\n",
    "\n",
    "cv.waitKey(0)\n",
    "cv.destroyAllWindows()\n"
   ]
  },
  {
   "cell_type": "code",
   "execution_count": null,
   "id": "c782048d",
   "metadata": {},
   "outputs": [],
   "source": [
    "import cv2\n",
    "import numpy as np\n",
    "\n",
    "img = cv2.imread(r\"D:\\Courses\\AI work\\NTI\\Day1 cv\\frames\\0.jpg\",0)\n",
    "cv2.imshow('original', img)\n",
    "\n",
    "identity_kernel = np.array(\n",
    "[[0, 0, 0],\n",
    "        [0, 1, 0],\n",
    "        [0, 0, 0]\n",
    "        ])\n",
    "\n",
    "low_kernel = np.array(\n",
    "[[1/9, 1/9, 1/9],\n",
    "        [1/9, 1/9, 1/9],\n",
    "        [1/9, 1/9, 1/9]\n",
    "        ])\n",
    "\n",
    "high_kernel = np.array(\n",
    "        [[-1, -1, -1],\n",
    " [-1,  9, -1],\n",
    " [-1, -1, -1]]\n",
    ")\n",
    "\n",
    "identity_img = cv2.filter2D(src=img, ddepth =-1, kernel=identity_kernel)\n",
    "cv2.imshow('identity Filter', identity_img)\n",
    "high_img = cv2.filter2D(src=img, ddepth =-1, kernel=high_kernel)\n",
    "cv2.imshow('high Filter', high_img)\n",
    "low_img = cv2.filter2D(src=img, ddepth =-1, kernel=low_kernel)\n",
    "cv2.imshow('low Filter', low_img)\n",
    "\n",
    "cv2.waitKey()\n",
    "cv2.destroyAllWindows()"
   ]
  },
  {
   "cell_type": "code",
   "execution_count": null,
   "id": "ad9458a8",
   "metadata": {},
   "outputs": [],
   "source": [
    "import cv2\n",
    "img = cv2.imread(r\"D:\\Courses\\AI work\\NTI\\Day1 cv\\frames\\0.jpg\",0)\n",
    "cv2.imshow(\"OriginalImage\", img)\n",
    "\n",
    "#Average\n",
    "BlurImage = cv2.blur(img,(5,5))\n",
    "cv2.imshow('average Image', BlurImage)\n",
    "# Gaussian BLur\n",
    "Gaussian = cv2.GaussianBlur(img, (7, 7), 0)\n",
    "cv2.imshow('Gaussian Blurring', Gaussian)\n",
    "# Median BLur\n",
    "MedianImage = cv2.medianBlur(img, 5)\n",
    "cv2.imshow( 'Median Blurring', MedianImage)\n",
    "# Bilateral BLur\n",
    "BilateralImage = cv2.bilateralFilter(img, 9, 75, 75)\n",
    "cv2.imshow('Bilateral Blurring', BilateralImage)\n",
    "\n",
    "cv2.waitKey()\n",
    "cv2.destroyAllWindows()"
   ]
  },
  {
   "cell_type": "code",
   "execution_count": null,
   "id": "b72d9be7",
   "metadata": {},
   "outputs": [],
   "source": [
    "import cv2\n",
    "import numpy as np\n",
    "img = cv2.imread(r\"D:\\Courses\\AI work\\NTI\\Day1 cv\\frames\\0.jpg\",0)\n",
    "cv2.imshow(\"image\", img)\n",
    "equ = cv2.equalizeHist(img)\n",
    "cv2.imshow(\"equ\", equ)\n",
    "cv2.waitKey(0)\n",
    "cv2.destroyAllWindows()"
   ]
  },
  {
   "cell_type": "code",
   "execution_count": null,
   "id": "50ebdff9",
   "metadata": {},
   "outputs": [],
   "source": []
  }
 ],
 "metadata": {
  "kernelspec": {
   "display_name": "Python 3",
   "language": "python",
   "name": "python3"
  },
  "language_info": {
   "codemirror_mode": {
    "name": "ipython",
    "version": 3
   },
   "file_extension": ".py",
   "mimetype": "text/x-python",
   "name": "python",
   "nbconvert_exporter": "python",
   "pygments_lexer": "ipython3",
   "version": "3.13.0"
  }
 },
 "nbformat": 4,
 "nbformat_minor": 5
}
